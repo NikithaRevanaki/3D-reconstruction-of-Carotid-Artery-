{
 "cells": [
  {
   "cell_type": "code",
   "execution_count": 1,
   "id": "0fef3f01",
   "metadata": {},
   "outputs": [
    {
     "name": "stdout",
     "output_type": "stream",
     "text": [
      "0: vol_100027.npy, 1: vol_105520.npy, 2: vol_160177.npy\n",
      "Enter the number corresponding to the chosen volume:0\n",
      "Visualising volume vol_100027.npy.\n"
     ]
    },
    {
     "data": {
      "application/vnd.jupyter.widget-view+json": {
       "model_id": "4b4963bf21cc4953a5eccc9e341a3df6",
       "version_major": 2,
       "version_minor": 0
      },
      "text/plain": [
       "Widget(value=\"<iframe src='http://localhost:62940/index.html?ui=P_0x2610f008cd0_0&reconnect=auto' style='width…"
      ]
     },
     "metadata": {},
     "output_type": "display_data"
    }
   ],
   "source": [
    "import glob, sys, os\n",
    "sys.path.insert(0, os.path.abspath('volume_manipulation'))\n",
    "from volume_manipulation.visualisations import visualise_3d_grid, show_grid\n",
    "from volume_manipulation.volume_manip import load_numpy_array\n",
    "\n",
    "\n",
    "if __name__=='__main__':\n",
    "    volume_names = list()\n",
    "    if not os.path.exists('volumes'):\n",
    "        print(\"No volume file exists.\")\n",
    "    else:\n",
    "        os.chdir('volumes')\n",
    "        num_of_files = 0\n",
    "        for file in glob.glob(\"*.npy\"):\n",
    "            volume_names.append(file)\n",
    "            num_of_files+=1\n",
    "        #print the array names to the user \n",
    "        for i in range(num_of_files):\n",
    "            print(f\"{i}: {volume_names[i]}\", end='')\n",
    "            if i !=num_of_files-1:print(', ', end='')\n",
    "        # print()\n",
    "        chosen_number = input('\\nEnter the number corresponding to the chosen volume:')\n",
    "        if not chosen_number.strip().isdigit():\n",
    "            print(\"User input is not a number.\")\n",
    "        else:\n",
    "            chosen_number = int(chosen_number)\n",
    "            #get the number of the array chosen by the user\n",
    "            if chosen_number in range(num_of_files):\n",
    "                volume_name = volume_names[chosen_number]\n",
    "                print('Visualising volume '+volume_name+'.')\n",
    "            else:\n",
    "                print('Selected number corresponds to no volume.')\n",
    "                exit()\n",
    "            # load the chosen array and visualise it with PyVista\n",
    "            volume = load_numpy_array(volume_name)\n",
    "            visualise_3d_grid(volume)\n",
    "            # show_grid(volume)\n"
   ]
  },
  {
   "cell_type": "code",
   "execution_count": null,
   "id": "e98fffc2",
   "metadata": {},
   "outputs": [],
   "source": []
  }
 ],
 "metadata": {
  "kernelspec": {
   "display_name": "Python 3 (ipykernel)",
   "language": "python",
   "name": "python3"
  },
  "language_info": {
   "codemirror_mode": {
    "name": "ipython",
    "version": 3
   },
   "file_extension": ".py",
   "mimetype": "text/x-python",
   "name": "python",
   "nbconvert_exporter": "python",
   "pygments_lexer": "ipython3",
   "version": "3.10.9"
  }
 },
 "nbformat": 4,
 "nbformat_minor": 5
}
